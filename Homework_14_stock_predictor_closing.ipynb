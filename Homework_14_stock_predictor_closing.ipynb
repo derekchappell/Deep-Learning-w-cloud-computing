{
  "nbformat": 4,
  "nbformat_minor": 0,
  "metadata": {
    "kernelspec": {
      "display_name": "dev",
      "language": "python",
      "name": "dev"
    },
    "language_info": {
      "codemirror_mode": {
        "name": "ipython",
        "version": 3
      },
      "file_extension": ".py",
      "mimetype": "text/x-python",
      "name": "python",
      "nbconvert_exporter": "python",
      "pygments_lexer": "ipython3",
      "version": "3.7.4"
    },
    "colab": {
      "name": "Homework_14_stock_predictor_closing.ipynb",
      "provenance": []
    }
  },
  "cells": [
    {
      "cell_type": "markdown",
      "metadata": {
        "id": "4-3h1r6nzz6c"
      },
      "source": [
        "# LSTM Stock Predictor Using Closing Prices\n",
        "\n",
        "In this notebook, you will build and train a custom LSTM RNN that uses a 10 day window of Bitcoin closing prices to predict the 11th day closing price. \n",
        "\n",
        "You will need to:\n",
        "\n",
        "1. Prepare the data for training and testing\n",
        "2. Build and train a custom LSTM RNN\n",
        "3. Evaluate the performance of the model"
      ]
    },
    {
      "cell_type": "markdown",
      "metadata": {
        "id": "Xlxd9WqFzz6d"
      },
      "source": [
        "## Data Preparation\n",
        "\n",
        "In this section, you will need to prepare the training and testing data for the model. The model will use a rolling 10 day window to predict the 11th day closing price.\n",
        "\n",
        "You will need to:\n",
        "1. Use the `window_data` function to generate the X and y values for the model.\n",
        "2. Split the data into 70% training and 30% testing\n",
        "3. Apply the MinMaxScaler to the X and y values\n",
        "4. Reshape the X_train and X_test data for the model. Note: The required input format for the LSTM is:\n",
        "\n",
        "```python\n",
        "reshape((X_train.shape[0], X_train.shape[1], 1))\n",
        "```"
      ]
    },
    {
      "cell_type": "code",
      "metadata": {
        "id": "E2usBmeQzz6d"
      },
      "source": [
        "import numpy as np\n",
        "import pandas as pd\n",
        "import matplotlib\n",
        "import tensorflow\n",
        "import requests\n",
        "from sklearn.preprocessing import MinMaxScaler\n",
        "from google.colab import auth\n",
        "from io import BytesIO\n",
        "auth.authenticate_user()\n",
        "import gspread\n",
        "from oauth2client.client import GoogleCredentials\n",
        "%matplotlib inline"
      ],
      "execution_count": 1,
      "outputs": []
    },
    {
      "cell_type": "code",
      "metadata": {
        "id": "78snSlaJzz6j"
      },
      "source": [
        "# Set the random seed for reproducibility\n",
        "# Note: This is for the homework solution, but it is good practice to comment this out and run multiple experiments to evaluate your model\n",
        "from numpy.random import seed\n",
        "seed(1)\n",
        "from tensorflow import random\n",
        "random.set_seed(2)"
      ],
      "execution_count": 2,
      "outputs": []
    },
    {
      "cell_type": "code",
      "metadata": {
        "id": "qk9m-VNhzz6m",
        "outputId": "6d8bd8f3-bead-4e83-d3cd-cee952743beb",
        "colab": {
          "base_uri": "https://localhost:8080/",
          "height": 235
        }
      },
      "source": [
        "# Load the fear and greed sentiment data for Bitcoin/again through collab due to dl issues on local machine\n",
        "gc = gspread.authorize(GoogleCredentials.get_application_default())\n",
        "worksheet = gc.open('Homework_14_sentiment').sheet1\n",
        "rows = worksheet.get_all_values()\n",
        "\n",
        "df = pd.DataFrame.from_records(rows)\n",
        "new_header = df.iloc[0]\n",
        "df = df[1:] \n",
        "df.columns = new_header\n",
        "df = df.drop(columns=\"fng_classification\")\n",
        "df['date'] = pd.to_datetime(df['date'])\n",
        "df.set_index('date', inplace=True)\n",
        "df.head()"
      ],
      "execution_count": 3,
      "outputs": [
        {
          "output_type": "execute_result",
          "data": {
            "text/html": [
              "<div>\n",
              "<style scoped>\n",
              "    .dataframe tbody tr th:only-of-type {\n",
              "        vertical-align: middle;\n",
              "    }\n",
              "\n",
              "    .dataframe tbody tr th {\n",
              "        vertical-align: top;\n",
              "    }\n",
              "\n",
              "    .dataframe thead th {\n",
              "        text-align: right;\n",
              "    }\n",
              "</style>\n",
              "<table border=\"1\" class=\"dataframe\">\n",
              "  <thead>\n",
              "    <tr style=\"text-align: right;\">\n",
              "      <th></th>\n",
              "      <th>fng_value</th>\n",
              "    </tr>\n",
              "    <tr>\n",
              "      <th>date</th>\n",
              "      <th></th>\n",
              "    </tr>\n",
              "  </thead>\n",
              "  <tbody>\n",
              "    <tr>\n",
              "      <th>2019-07-29</th>\n",
              "      <td>19</td>\n",
              "    </tr>\n",
              "    <tr>\n",
              "      <th>2019-07-28</th>\n",
              "      <td>16</td>\n",
              "    </tr>\n",
              "    <tr>\n",
              "      <th>2019-07-27</th>\n",
              "      <td>47</td>\n",
              "    </tr>\n",
              "    <tr>\n",
              "      <th>2019-07-26</th>\n",
              "      <td>24</td>\n",
              "    </tr>\n",
              "    <tr>\n",
              "      <th>2019-07-25</th>\n",
              "      <td>42</td>\n",
              "    </tr>\n",
              "  </tbody>\n",
              "</table>\n",
              "</div>"
            ],
            "text/plain": [
              "0          fng_value\n",
              "date                \n",
              "2019-07-29        19\n",
              "2019-07-28        16\n",
              "2019-07-27        47\n",
              "2019-07-26        24\n",
              "2019-07-25        42"
            ]
          },
          "metadata": {
            "tags": []
          },
          "execution_count": 3
        }
      ]
    },
    {
      "cell_type": "code",
      "metadata": {
        "id": "_5S9M6Mdzz6p",
        "outputId": "bd285854-160b-4dd5-88a6-cfbdafcb4ff7",
        "colab": {
          "base_uri": "https://localhost:8080/",
          "height": 235
        }
      },
      "source": [
        "# Load the historical closing prices for bitcoin\n",
        "worksheet2 = gc.open('Homework_14_historic').sheet1\n",
        "rows2 = worksheet2.get_all_values()\n",
        "df2 = pd.DataFrame.from_records(rows2)\n",
        "new_header2 = df2.iloc[0]\n",
        "df2 = df2[1:] \n",
        "df2.columns = new_header2\n",
        "df2['Date'] = pd.to_datetime(df2['Date'])\n",
        "df2.set_index('Date', inplace=True)\n",
        "df2 = df2.drop(columns=['Open','High', 'Low', 'Adj Close', 'Volume'])\n",
        "df2.head()"
      ],
      "execution_count": 4,
      "outputs": [
        {
          "output_type": "execute_result",
          "data": {
            "text/html": [
              "<div>\n",
              "<style scoped>\n",
              "    .dataframe tbody tr th:only-of-type {\n",
              "        vertical-align: middle;\n",
              "    }\n",
              "\n",
              "    .dataframe tbody tr th {\n",
              "        vertical-align: top;\n",
              "    }\n",
              "\n",
              "    .dataframe thead th {\n",
              "        text-align: right;\n",
              "    }\n",
              "</style>\n",
              "<table border=\"1\" class=\"dataframe\">\n",
              "  <thead>\n",
              "    <tr style=\"text-align: right;\">\n",
              "      <th></th>\n",
              "      <th>Close</th>\n",
              "    </tr>\n",
              "    <tr>\n",
              "      <th>Date</th>\n",
              "      <th></th>\n",
              "    </tr>\n",
              "  </thead>\n",
              "  <tbody>\n",
              "    <tr>\n",
              "      <th>2018-01-02</th>\n",
              "      <td>14754.12988</td>\n",
              "    </tr>\n",
              "    <tr>\n",
              "      <th>2018-01-03</th>\n",
              "      <td>15156.62012</td>\n",
              "    </tr>\n",
              "    <tr>\n",
              "      <th>2018-01-04</th>\n",
              "      <td>15180.08008</td>\n",
              "    </tr>\n",
              "    <tr>\n",
              "      <th>2018-01-05</th>\n",
              "      <td>16954.7793</td>\n",
              "    </tr>\n",
              "    <tr>\n",
              "      <th>2018-01-06</th>\n",
              "      <td>17172.30078</td>\n",
              "    </tr>\n",
              "  </tbody>\n",
              "</table>\n",
              "</div>"
            ],
            "text/plain": [
              "0                 Close\n",
              "Date                   \n",
              "2018-01-02  14754.12988\n",
              "2018-01-03  15156.62012\n",
              "2018-01-04  15180.08008\n",
              "2018-01-05   16954.7793\n",
              "2018-01-06  17172.30078"
            ]
          },
          "metadata": {
            "tags": []
          },
          "execution_count": 4
        }
      ]
    },
    {
      "cell_type": "code",
      "metadata": {
        "id": "QJCgvSI5zz6r",
        "outputId": "2743972c-3c75-4d91-efbb-78f3f1cd5384",
        "colab": {
          "base_uri": "https://localhost:8080/",
          "height": 204
        }
      },
      "source": [
        "# Join the data into a single DataFrame\n",
        "df = df.join(df2, how=\"inner\")\n",
        "df.tail()"
      ],
      "execution_count": 5,
      "outputs": [
        {
          "output_type": "execute_result",
          "data": {
            "text/html": [
              "<div>\n",
              "<style scoped>\n",
              "    .dataframe tbody tr th:only-of-type {\n",
              "        vertical-align: middle;\n",
              "    }\n",
              "\n",
              "    .dataframe tbody tr th {\n",
              "        vertical-align: top;\n",
              "    }\n",
              "\n",
              "    .dataframe thead th {\n",
              "        text-align: right;\n",
              "    }\n",
              "</style>\n",
              "<table border=\"1\" class=\"dataframe\">\n",
              "  <thead>\n",
              "    <tr style=\"text-align: right;\">\n",
              "      <th></th>\n",
              "      <th>fng_value</th>\n",
              "      <th>Close</th>\n",
              "    </tr>\n",
              "  </thead>\n",
              "  <tbody>\n",
              "    <tr>\n",
              "      <th>2019-07-25</th>\n",
              "      <td>42</td>\n",
              "      <td>9882.429688</td>\n",
              "    </tr>\n",
              "    <tr>\n",
              "      <th>2019-07-26</th>\n",
              "      <td>24</td>\n",
              "      <td>9847.450195</td>\n",
              "    </tr>\n",
              "    <tr>\n",
              "      <th>2019-07-27</th>\n",
              "      <td>47</td>\n",
              "      <td>9478.320313</td>\n",
              "    </tr>\n",
              "    <tr>\n",
              "      <th>2019-07-28</th>\n",
              "      <td>16</td>\n",
              "      <td>9531.769531</td>\n",
              "    </tr>\n",
              "    <tr>\n",
              "      <th>2019-07-29</th>\n",
              "      <td>19</td>\n",
              "      <td>9529.889648</td>\n",
              "    </tr>\n",
              "  </tbody>\n",
              "</table>\n",
              "</div>"
            ],
            "text/plain": [
              "0          fng_value        Close\n",
              "2019-07-25        42  9882.429688\n",
              "2019-07-26        24  9847.450195\n",
              "2019-07-27        47  9478.320313\n",
              "2019-07-28        16  9531.769531\n",
              "2019-07-29        19  9529.889648"
            ]
          },
          "metadata": {
            "tags": []
          },
          "execution_count": 5
        }
      ]
    },
    {
      "cell_type": "code",
      "metadata": {
        "id": "xQOlFSXPzz6u",
        "outputId": "eb52099f-cc6c-4616-969e-91c511feb89b",
        "colab": {
          "base_uri": "https://localhost:8080/",
          "height": 204
        }
      },
      "source": [
        "df.head()"
      ],
      "execution_count": 6,
      "outputs": [
        {
          "output_type": "execute_result",
          "data": {
            "text/html": [
              "<div>\n",
              "<style scoped>\n",
              "    .dataframe tbody tr th:only-of-type {\n",
              "        vertical-align: middle;\n",
              "    }\n",
              "\n",
              "    .dataframe tbody tr th {\n",
              "        vertical-align: top;\n",
              "    }\n",
              "\n",
              "    .dataframe thead th {\n",
              "        text-align: right;\n",
              "    }\n",
              "</style>\n",
              "<table border=\"1\" class=\"dataframe\">\n",
              "  <thead>\n",
              "    <tr style=\"text-align: right;\">\n",
              "      <th></th>\n",
              "      <th>fng_value</th>\n",
              "      <th>Close</th>\n",
              "    </tr>\n",
              "  </thead>\n",
              "  <tbody>\n",
              "    <tr>\n",
              "      <th>2018-01-02</th>\n",
              "      <td>30</td>\n",
              "      <td>14754.12988</td>\n",
              "    </tr>\n",
              "    <tr>\n",
              "      <th>2018-01-03</th>\n",
              "      <td>38</td>\n",
              "      <td>15156.62012</td>\n",
              "    </tr>\n",
              "    <tr>\n",
              "      <th>2018-01-04</th>\n",
              "      <td>16</td>\n",
              "      <td>15180.08008</td>\n",
              "    </tr>\n",
              "    <tr>\n",
              "      <th>2018-01-05</th>\n",
              "      <td>56</td>\n",
              "      <td>16954.7793</td>\n",
              "    </tr>\n",
              "    <tr>\n",
              "      <th>2018-01-06</th>\n",
              "      <td>24</td>\n",
              "      <td>17172.30078</td>\n",
              "    </tr>\n",
              "  </tbody>\n",
              "</table>\n",
              "</div>"
            ],
            "text/plain": [
              "0          fng_value        Close\n",
              "2018-01-02        30  14754.12988\n",
              "2018-01-03        38  15156.62012\n",
              "2018-01-04        16  15180.08008\n",
              "2018-01-05        56   16954.7793\n",
              "2018-01-06        24  17172.30078"
            ]
          },
          "metadata": {
            "tags": []
          },
          "execution_count": 6
        }
      ]
    },
    {
      "cell_type": "code",
      "metadata": {
        "id": "bt4aXZ68zz6x"
      },
      "source": [
        "# This function accepts the column number for the features (X) and the target (y)\n",
        "# It chunks the data up with a rolling window of Xt-n to predict Xt\n",
        "# It returns a numpy array of X any y\n",
        "def window_data(df, window, feature_col_number, target_col_number):\n",
        "    X = []\n",
        "    y = []\n",
        "    for i in range(len(df) - window - 1):\n",
        "        features = df.iloc[i:(i + window), feature_col_number]\n",
        "        target = df.iloc[(i + window), target_col_number]\n",
        "        X.append(features)\n",
        "        y.append(target)\n",
        "    return np.array(X), np.array(y).reshape(-1, 1)"
      ],
      "execution_count": 7,
      "outputs": []
    },
    {
      "cell_type": "code",
      "metadata": {
        "id": "haALmi9Gzz60"
      },
      "source": [
        "# Predict Closing Prices using a 10 day window of previous closing prices\n",
        "# Try a window size anywhere from 1 to 10 and see how the model performance changes\n",
        "window_size = 10\n",
        "\n",
        "# Column index 1 is the `Close` column\n",
        "feature_column = 1\n",
        "target_column = 1\n",
        "X, y = window_data(df, window_size, feature_column, target_column)"
      ],
      "execution_count": 9,
      "outputs": []
    },
    {
      "cell_type": "code",
      "metadata": {
        "id": "BVrlNSXNzz63"
      },
      "source": [
        "# Use 70% of the data for training and the remaineder for testing\n",
        "# YOUR CODE HERE!\n",
        "split = int(0.7 * len(X))\n",
        "X_train = X[: split - 1]\n",
        "X_test = X[split:]\n",
        "y_train = y[: split - 1]\n",
        "y_test = y[split:]"
      ],
      "execution_count": 10,
      "outputs": []
    },
    {
      "cell_type": "code",
      "metadata": {
        "id": "js1bEK6Dzz65"
      },
      "source": [
        "# Use MinMaxScaler to scale the data between 0 and 1. \n",
        "# YOUR CODE HERE!\n",
        "scaler = MinMaxScaler()\n",
        "scaler.fit(X)\n",
        "X_train = scaler.transform(X_train)\n",
        "X_test = scaler.transform(X_test)\n",
        "scaler.fit(y)\n",
        "y_train = scaler.transform(y_train)\n",
        "y_test = scaler.transform(y_test)"
      ],
      "execution_count": 11,
      "outputs": []
    },
    {
      "cell_type": "code",
      "metadata": {
        "id": "1qQ-xABDzz67"
      },
      "source": [
        "# Reshape the features for the model\n",
        "# YOUR CODE HERE!\n",
        "X_train = X_train.reshape((X_train.shape[0], X_train.shape[1], 1))\n",
        "X_test = X_test.reshape((X_test.shape[0], X_test.shape[1], 1))"
      ],
      "execution_count": 12,
      "outputs": []
    },
    {
      "cell_type": "markdown",
      "metadata": {
        "id": "UsceMHFgzz69"
      },
      "source": [
        "---"
      ]
    },
    {
      "cell_type": "markdown",
      "metadata": {
        "id": "dPcN-ooHzz6-"
      },
      "source": [
        "## Build and Train the LSTM RNN\n",
        "\n",
        "In this section, you will design a custom LSTM RNN and fit (train) it using the training data.\n",
        "\n",
        "You will need to:\n",
        "1. Define the model architecture\n",
        "2. Compile the model\n",
        "3. Fit the model to the training data\n",
        "\n",
        "### Hints:\n",
        "You will want to use the same model architecture and random seed for both notebooks. This is necessary to accurately compare the performance of the FNG model vs the closing price model. "
      ]
    },
    {
      "cell_type": "code",
      "metadata": {
        "id": "yzFwYcvYzz6-"
      },
      "source": [
        "from tensorflow.keras.models import Sequential\n",
        "from tensorflow.keras.layers import LSTM, Dense, Dropout"
      ],
      "execution_count": 13,
      "outputs": []
    },
    {
      "cell_type": "code",
      "metadata": {
        "id": "qWKkKH3Czz7B"
      },
      "source": [
        "# Build the LSTM model. \n",
        "# The return sequences need to be set to True if you are adding additional LSTM layers, but \n",
        "# You don't have to do this for the final layer. \n",
        "# YOUR CODE HERE!\n",
        "model = Sequential()\n",
        "number_units = 30\n",
        "dropout_fraction = 0.2\n",
        "\n",
        "model.add(LSTM(\n",
        "                units=number_units,\n",
        "                return_sequences=True,\n",
        "                input_shape=(X_train.shape[1], 1))\n",
        "            )\n",
        "model.add(Dropout(dropout_fraction))\n",
        "\n",
        "# New Layer\n",
        "model.add(LSTM(units=number_units, return_sequences=True))\n",
        "model.add(Dropout(dropout_fraction))\n",
        "\n",
        "# New Layer\n",
        "model.add(LSTM(units=number_units, return_sequences=True))\n",
        "model.add(Dropout(dropout_fraction))\n",
        "\n",
        "\n",
        "# New Layer\n",
        "model.add(LSTM(units=number_units))\n",
        "model.add(Dropout(dropout_fraction))\n",
        "\n",
        "# Output layer\n",
        "model.add(Dense(1))"
      ],
      "execution_count": 14,
      "outputs": []
    },
    {
      "cell_type": "code",
      "metadata": {
        "id": "b4PnwzIGzz7D"
      },
      "source": [
        "# Compile the model\n",
        "# YOUR CODE HERE!\n",
        "model.compile(optimizer='adam', loss='mean_squared_error')"
      ],
      "execution_count": 15,
      "outputs": []
    },
    {
      "cell_type": "code",
      "metadata": {
        "id": "PIzp23UUzz7F",
        "outputId": "148fc768-fc26-4de1-bd2f-08d0443993f6",
        "colab": {
          "base_uri": "https://localhost:8080/"
        }
      },
      "source": [
        "# Summarize the model\n",
        "# YOUR CODE HERE!\n",
        "model.summary()"
      ],
      "execution_count": 16,
      "outputs": [
        {
          "output_type": "stream",
          "text": [
            "Model: \"sequential\"\n",
            "_________________________________________________________________\n",
            "Layer (type)                 Output Shape              Param #   \n",
            "=================================================================\n",
            "lstm (LSTM)                  (None, 10, 30)            3840      \n",
            "_________________________________________________________________\n",
            "dropout (Dropout)            (None, 10, 30)            0         \n",
            "_________________________________________________________________\n",
            "lstm_1 (LSTM)                (None, 10, 30)            7320      \n",
            "_________________________________________________________________\n",
            "dropout_1 (Dropout)          (None, 10, 30)            0         \n",
            "_________________________________________________________________\n",
            "lstm_2 (LSTM)                (None, 10, 30)            7320      \n",
            "_________________________________________________________________\n",
            "dropout_2 (Dropout)          (None, 10, 30)            0         \n",
            "_________________________________________________________________\n",
            "lstm_3 (LSTM)                (None, 30)                7320      \n",
            "_________________________________________________________________\n",
            "dropout_3 (Dropout)          (None, 30)                0         \n",
            "_________________________________________________________________\n",
            "dense (Dense)                (None, 1)                 31        \n",
            "=================================================================\n",
            "Total params: 25,831\n",
            "Trainable params: 25,831\n",
            "Non-trainable params: 0\n",
            "_________________________________________________________________\n"
          ],
          "name": "stdout"
        }
      ]
    },
    {
      "cell_type": "code",
      "metadata": {
        "id": "4dGXUGHUzz7I",
        "outputId": "8e0a3969-ccde-42c9-c3c8-0576bcbe1abc",
        "colab": {
          "base_uri": "https://localhost:8080/"
        }
      },
      "source": [
        "# Train the model\n",
        "# Use at least 10 epochs\n",
        "# Do not shuffle the data\n",
        "# Experiement with the batch size, but a smaller batch size is recommended\n",
        "# YOUR CODE HERE!\n",
        "model.fit(X_train, y_train, epochs=50, shuffle=False, batch_size=2, verbose=1)"
      ],
      "execution_count": 17,
      "outputs": [
        {
          "output_type": "stream",
          "text": [
            "Epoch 1/50\n",
            "173/173 [==============================] - 2s 10ms/step - loss: 0.0323\n",
            "Epoch 2/50\n",
            "173/173 [==============================] - 2s 10ms/step - loss: 0.0270\n",
            "Epoch 3/50\n",
            "173/173 [==============================] - 2s 10ms/step - loss: 0.0254\n",
            "Epoch 4/50\n",
            "173/173 [==============================] - 2s 10ms/step - loss: 0.0216\n",
            "Epoch 5/50\n",
            "173/173 [==============================] - 2s 10ms/step - loss: 0.0172\n",
            "Epoch 6/50\n",
            "173/173 [==============================] - 2s 11ms/step - loss: 0.0149\n",
            "Epoch 7/50\n",
            "173/173 [==============================] - 2s 10ms/step - loss: 0.0130\n",
            "Epoch 8/50\n",
            "173/173 [==============================] - 2s 10ms/step - loss: 0.0129\n",
            "Epoch 9/50\n",
            "173/173 [==============================] - 2s 10ms/step - loss: 0.0132\n",
            "Epoch 10/50\n",
            "173/173 [==============================] - 2s 10ms/step - loss: 0.0122\n",
            "Epoch 11/50\n",
            "173/173 [==============================] - 2s 10ms/step - loss: 0.0120\n",
            "Epoch 12/50\n",
            "173/173 [==============================] - 2s 10ms/step - loss: 0.0105\n",
            "Epoch 13/50\n",
            "173/173 [==============================] - 2s 10ms/step - loss: 0.0113\n",
            "Epoch 14/50\n",
            "173/173 [==============================] - 2s 10ms/step - loss: 0.0106\n",
            "Epoch 15/50\n",
            "173/173 [==============================] - 2s 10ms/step - loss: 0.0108\n",
            "Epoch 16/50\n",
            "173/173 [==============================] - 2s 10ms/step - loss: 0.0104\n",
            "Epoch 17/50\n",
            "173/173 [==============================] - 2s 10ms/step - loss: 0.0109\n",
            "Epoch 18/50\n",
            "173/173 [==============================] - 2s 10ms/step - loss: 0.0102\n",
            "Epoch 19/50\n",
            "173/173 [==============================] - 2s 10ms/step - loss: 0.0093\n",
            "Epoch 20/50\n",
            "173/173 [==============================] - 2s 10ms/step - loss: 0.0087\n",
            "Epoch 21/50\n",
            "173/173 [==============================] - 2s 11ms/step - loss: 0.0085\n",
            "Epoch 22/50\n",
            "173/173 [==============================] - 2s 10ms/step - loss: 0.0084\n",
            "Epoch 23/50\n",
            "173/173 [==============================] - 2s 11ms/step - loss: 0.0086\n",
            "Epoch 24/50\n",
            "173/173 [==============================] - 2s 10ms/step - loss: 0.0079\n",
            "Epoch 25/50\n",
            "173/173 [==============================] - 2s 10ms/step - loss: 0.0068\n",
            "Epoch 26/50\n",
            "173/173 [==============================] - 2s 11ms/step - loss: 0.0069\n",
            "Epoch 27/50\n",
            "173/173 [==============================] - 2s 10ms/step - loss: 0.0070\n",
            "Epoch 28/50\n",
            "173/173 [==============================] - 2s 11ms/step - loss: 0.0058\n",
            "Epoch 29/50\n",
            "173/173 [==============================] - 2s 12ms/step - loss: 0.0043\n",
            "Epoch 30/50\n",
            "173/173 [==============================] - 2s 12ms/step - loss: 0.0045\n",
            "Epoch 31/50\n",
            "173/173 [==============================] - 2s 11ms/step - loss: 0.0046\n",
            "Epoch 32/50\n",
            "173/173 [==============================] - 2s 10ms/step - loss: 0.0047\n",
            "Epoch 33/50\n",
            "173/173 [==============================] - 2s 10ms/step - loss: 0.0044\n",
            "Epoch 34/50\n",
            "173/173 [==============================] - 2s 10ms/step - loss: 0.0034\n",
            "Epoch 35/50\n",
            "173/173 [==============================] - 2s 10ms/step - loss: 0.0040\n",
            "Epoch 36/50\n",
            "173/173 [==============================] - 2s 10ms/step - loss: 0.0036\n",
            "Epoch 37/50\n",
            "173/173 [==============================] - 2s 10ms/step - loss: 0.0030\n",
            "Epoch 38/50\n",
            "173/173 [==============================] - 2s 10ms/step - loss: 0.0032\n",
            "Epoch 39/50\n",
            "173/173 [==============================] - 2s 10ms/step - loss: 0.0035\n",
            "Epoch 40/50\n",
            "173/173 [==============================] - 2s 10ms/step - loss: 0.0036\n",
            "Epoch 41/50\n",
            "173/173 [==============================] - 2s 10ms/step - loss: 0.0031\n",
            "Epoch 42/50\n",
            "173/173 [==============================] - 2s 10ms/step - loss: 0.0028\n",
            "Epoch 43/50\n",
            "173/173 [==============================] - 2s 10ms/step - loss: 0.0036\n",
            "Epoch 44/50\n",
            "173/173 [==============================] - 2s 10ms/step - loss: 0.0032\n",
            "Epoch 45/50\n",
            "173/173 [==============================] - 2s 11ms/step - loss: 0.0030\n",
            "Epoch 46/50\n",
            "173/173 [==============================] - 2s 10ms/step - loss: 0.0030\n",
            "Epoch 47/50\n",
            "173/173 [==============================] - 2s 10ms/step - loss: 0.0035\n",
            "Epoch 48/50\n",
            "173/173 [==============================] - 2s 10ms/step - loss: 0.0030\n",
            "Epoch 49/50\n",
            "173/173 [==============================] - 2s 10ms/step - loss: 0.0030\n",
            "Epoch 50/50\n",
            "173/173 [==============================] - 2s 10ms/step - loss: 0.0027\n"
          ],
          "name": "stdout"
        },
        {
          "output_type": "execute_result",
          "data": {
            "text/plain": [
              "<tensorflow.python.keras.callbacks.History at 0x7f927a393748>"
            ]
          },
          "metadata": {
            "tags": []
          },
          "execution_count": 17
        }
      ]
    },
    {
      "cell_type": "markdown",
      "metadata": {
        "id": "99Pf7SBNzz7O"
      },
      "source": [
        "---"
      ]
    },
    {
      "cell_type": "markdown",
      "metadata": {
        "id": "NS_6NXilzz7P"
      },
      "source": [
        "## Model Performance\n",
        "\n",
        "In this section, you will evaluate the model using the test data. \n",
        "\n",
        "You will need to:\n",
        "1. Evaluate the model using the `X_test` and `y_test` data.\n",
        "2. Use the X_test data to make predictions\n",
        "3. Create a DataFrame of Real (y_test) vs predicted values. \n",
        "4. Plot the Real vs predicted values as a line chart\n",
        "\n",
        "### Hints\n",
        "Remember to apply the `inverse_transform` function to the predicted and y_test values to recover the actual closing prices."
      ]
    },
    {
      "cell_type": "code",
      "metadata": {
        "id": "I-R0KsUmzz7P",
        "outputId": "a4ae2df5-dd6c-4077-eeb3-327549baee93",
        "colab": {
          "base_uri": "https://localhost:8080/"
        }
      },
      "source": [
        "# Evaluate the model\n",
        "# YOUR CODE HERE!\n",
        "model.evaluate(X_test, y_test)"
      ],
      "execution_count": 18,
      "outputs": [
        {
          "output_type": "stream",
          "text": [
            "5/5 [==============================] - 0s 5ms/step - loss: 0.0077\n"
          ],
          "name": "stdout"
        },
        {
          "output_type": "execute_result",
          "data": {
            "text/plain": [
              "0.0077263228595256805"
            ]
          },
          "metadata": {
            "tags": []
          },
          "execution_count": 18
        }
      ]
    },
    {
      "cell_type": "code",
      "metadata": {
        "id": "0TCGzQsUzz7S"
      },
      "source": [
        "# Make some predictions\n",
        "# YOUR CODE HERE!\n",
        "predicted = model.predict(X_test)"
      ],
      "execution_count": 19,
      "outputs": []
    },
    {
      "cell_type": "code",
      "metadata": {
        "id": "-7-7KSIuzz7V"
      },
      "source": [
        "# Recover the original prices instead of the scaled version\n",
        "predicted_prices = scaler.inverse_transform(predicted)\n",
        "real_prices = scaler.inverse_transform(y_test.reshape(-1, 1))"
      ],
      "execution_count": 20,
      "outputs": []
    },
    {
      "cell_type": "code",
      "metadata": {
        "id": "o4wJ2DYnzz7Z",
        "outputId": "e2c32ba8-14eb-4271-a336-ae57215dd4eb",
        "colab": {
          "base_uri": "https://localhost:8080/",
          "height": 204
        }
      },
      "source": [
        "# Create a DataFrame of Real and Predicted values\n",
        "stocks = pd.DataFrame({\n",
        "    \"Real\": real_prices.ravel(),\n",
        "    \"Predicted\": predicted_prices.ravel()\n",
        "})\n",
        "stocks.head()"
      ],
      "execution_count": 21,
      "outputs": [
        {
          "output_type": "execute_result",
          "data": {
            "text/html": [
              "<div>\n",
              "<style scoped>\n",
              "    .dataframe tbody tr th:only-of-type {\n",
              "        vertical-align: middle;\n",
              "    }\n",
              "\n",
              "    .dataframe tbody tr th {\n",
              "        vertical-align: top;\n",
              "    }\n",
              "\n",
              "    .dataframe thead th {\n",
              "        text-align: right;\n",
              "    }\n",
              "</style>\n",
              "<table border=\"1\" class=\"dataframe\">\n",
              "  <thead>\n",
              "    <tr style=\"text-align: right;\">\n",
              "      <th></th>\n",
              "      <th>Real</th>\n",
              "      <th>Predicted</th>\n",
              "    </tr>\n",
              "  </thead>\n",
              "  <tbody>\n",
              "    <tr>\n",
              "      <th>0</th>\n",
              "      <td>3434.129883</td>\n",
              "      <td>3631.273438</td>\n",
              "    </tr>\n",
              "    <tr>\n",
              "      <th>1</th>\n",
              "      <td>3461.629883</td>\n",
              "      <td>3629.995361</td>\n",
              "    </tr>\n",
              "    <tr>\n",
              "      <th>2</th>\n",
              "      <td>3508.679932</td>\n",
              "      <td>3634.594238</td>\n",
              "    </tr>\n",
              "    <tr>\n",
              "      <th>3</th>\n",
              "      <td>3449.620117</td>\n",
              "      <td>3651.765625</td>\n",
              "    </tr>\n",
              "    <tr>\n",
              "      <th>4</th>\n",
              "      <td>3431.239990</td>\n",
              "      <td>3653.674316</td>\n",
              "    </tr>\n",
              "  </tbody>\n",
              "</table>\n",
              "</div>"
            ],
            "text/plain": [
              "          Real    Predicted\n",
              "0  3434.129883  3631.273438\n",
              "1  3461.629883  3629.995361\n",
              "2  3508.679932  3634.594238\n",
              "3  3449.620117  3651.765625\n",
              "4  3431.239990  3653.674316"
            ]
          },
          "metadata": {
            "tags": []
          },
          "execution_count": 21
        }
      ]
    },
    {
      "cell_type": "code",
      "metadata": {
        "id": "4zoDkI50zz7c",
        "outputId": "04e7b83d-708c-49bf-af5c-edb74e917e70",
        "colab": {
          "base_uri": "https://localhost:8080/",
          "height": 282
        }
      },
      "source": [
        "# Plot the real vs predicted values as a line chart\n",
        "# YOUR CODE HERE!\n",
        "stocks.plot()"
      ],
      "execution_count": 23,
      "outputs": [
        {
          "output_type": "execute_result",
          "data": {
            "text/plain": [
              "<matplotlib.axes._subplots.AxesSubplot at 0x7f9275c68dd8>"
            ]
          },
          "metadata": {
            "tags": []
          },
          "execution_count": 23
        },
        {
          "output_type": "display_data",
          "data": {
            "image/png": "[encoded data removed]",
            "text/plain": [
              "<Figure size 432x288 with 1 Axes>"
            ]
          },
          "metadata": {
            "tags": [],
            "needs_background": "light"
          }
        }
      ]
    },
    {
      "cell_type": "code",
      "metadata": {
        "id": "_cRhhsfd1_Ls"
      },
      "source": [
        "#significantly better performance than the sentiment"
      ],
      "execution_count": 25,
      "outputs": []
    },
    {
      "cell_type": "code",
      "metadata": {
        "id": "PgrGDbAg2O0z"
      },
      "source": [
        ""
      ],
      "execution_count": null,
      "outputs": []
    }
  ]
}